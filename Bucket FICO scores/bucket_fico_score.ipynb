{
 "cells": [
  {
   "cell_type": "code",
   "execution_count": 47,
   "id": "84f80f1e",
   "metadata": {},
   "outputs": [],
   "source": [
    "import numpy as np\n",
    "import pandas as pd\n",
    "from sklearn.cluster import KMeans\n",
    "from scipy.optimize import minimize_scalar\n",
    "import matplotlib.pyplot as plt\n",
    "import seaborn as sns"
   ]
  },
  {
   "cell_type": "code",
   "execution_count": 48,
   "id": "06e7365d",
   "metadata": {},
   "outputs": [],
   "source": [
    "df = pd.read_csv(\"../Credit Risk Analysis/Task 3 and 4_Loan_Data.csv\")\n",
    "df = df.drop(columns=[\"customer_id\"])"
   ]
  },
  {
   "cell_type": "code",
   "execution_count": 49,
   "id": "0eacc2cd",
   "metadata": {},
   "outputs": [],
   "source": [
    "n_buckets = 6"
   ]
  },
  {
   "cell_type": "code",
   "execution_count": 50,
   "id": "2b01f552",
   "metadata": {},
   "outputs": [
    {
     "name": "stderr",
     "output_type": "stream",
     "text": [
      "c:\\Users\\josse\\AppData\\Local\\Programs\\Python\\Python310\\lib\\site-packages\\sklearn\\cluster\\_kmeans.py:1412: FutureWarning: The default value of `n_init` will change from 10 to 'auto' in 1.4. Set the value of `n_init` explicitly to suppress the warning\n",
      "  super()._check_params_vs_input(X, default_n_init=10)\n"
     ]
    }
   ],
   "source": [
    "kmeans = KMeans(n_clusters=n_buckets, random_state=42)\n",
    "df['fico_bucket'] = kmeans.fit_predict(df[['fico_score']])"
   ]
  },
  {
   "cell_type": "code",
   "execution_count": 51,
   "id": "87263bae",
   "metadata": {},
   "outputs": [],
   "source": [
    "centroids = kmeans.cluster_centers_.flatten()\n",
    "sorted_centroids = np.sort(centroids)\n",
    "boundaries = [df['fico_score'].min()]\n",
    "boundaries = [(sorted_centroids[i] + sorted_centroids[i + 1]) / 2 for i in range(len(sorted_centroids) - 1)]\n",
    "boundaries.append(df['fico_score'].max())"
   ]
  },
  {
   "cell_type": "code",
   "execution_count": 52,
   "id": "75d7c8ef",
   "metadata": {},
   "outputs": [],
   "source": [
    "n_buckets = len(boundaries) - 1\n",
    "rating_map = {}\n",
    "\n",
    "for i in range(n_buckets):\n",
    "    rating = chr(ord('A') + i)  # A, B, C, etc.\n",
    "    rating_map[rating] = {\n",
    "        'min_score': boundaries[i],\n",
    "        'max_score': boundaries[i + 1],\n",
    "        'bucket_index': i\n",
    "    }"
   ]
  },
  {
   "cell_type": "code",
   "execution_count": 53,
   "id": "da873eb6",
   "metadata": {},
   "outputs": [],
   "source": [
    "scores = None"
   ]
  },
  {
   "cell_type": "code",
   "execution_count": 54,
   "id": "4d0d678f",
   "metadata": {},
   "outputs": [],
   "source": [
    "if scores is None:\n",
    "    scores = df['fico_score'].tolist()\n",
    "\n",
    "ratings = []\n",
    "n_buckets = len(boundaries) - 1\n",
    "\n",
    "for score in scores:\n",
    "    rating_assigned = False\n",
    "    for i in range(n_buckets):\n",
    "        if i == n_buckets - 1:  # Last bucket includes upper bound\n",
    "            if boundaries[i] <= score <= boundaries[i + 1]:\n",
    "                ratings.append(chr(ord('A') + i))\n",
    "                rating_assigned = True\n",
    "                break\n",
    "        else:\n",
    "            if boundaries[i] <= score < boundaries[i + 1]:\n",
    "                ratings.append(chr(ord('A') + i))\n",
    "                rating_assigned = True\n",
    "                break\n",
    "    \n",
    "    if not rating_assigned:\n",
    "        # Handle edge cases\n",
    "        if score < boundaries[0]:\n",
    "            ratings.append('A')\n",
    "        else:\n",
    "            ratings.append(chr(ord('A') + n_buckets - 1))"
   ]
  },
  {
   "cell_type": "code",
   "execution_count": 55,
   "id": "e6d13ac6",
   "metadata": {},
   "outputs": [
    {
     "name": "stdout",
     "output_type": "stream",
     "text": [
      "\n",
      "Bucket A [545.1, 595.3]:\n",
      "  Count: 1761\n",
      "  Mean FICO: 574.2\n",
      "  Std FICO: 13.9\n",
      "  Default rate: 0.315\n",
      "\n",
      "Bucket B [595.3, 635.5]:\n",
      "  Count: 2396\n",
      "  Mean FICO: 616.5\n",
      "  Std FICO: 11.4\n",
      "  Default rate: 0.193\n",
      "\n",
      "Bucket C [635.5, 675.0]:\n",
      "  Count: 2480\n",
      "  Mean FICO: 654.5\n",
      "  Std FICO: 11.3\n",
      "  Default rate: 0.124\n",
      "\n",
      "Bucket D [675.0, 721.8]:\n",
      "  Count: 1914\n",
      "  Mean FICO: 695.4\n",
      "  Std FICO: 13.2\n",
      "  Default rate: 0.076\n",
      "\n",
      "Bucket E [721.8, 850.0]:\n",
      "  Count: 798\n",
      "  Mean FICO: 748.2\n",
      "  Std FICO: 23.5\n",
      "  Default rate: 0.030\n"
     ]
    }
   ],
   "source": [
    "n_buckets = len(boundaries) - 1\n",
    "\n",
    "for i in range(n_buckets):\n",
    "    mask = (df['fico_score'] >= boundaries[i]) & (df['fico_score'] < boundaries[i + 1])\n",
    "    if i == n_buckets - 1:  # Last bucket includes upper bound\n",
    "        mask = (df['fico_score'] >= boundaries[i]) & (df['fico_score'] <= boundaries[i + 1])\n",
    "\n",
    "    bucket_scores = df['fico_score'][mask]\n",
    "    rating = chr(ord('A') + i)\n",
    "    \n",
    "    print(f\"\\nBucket {rating} [{boundaries[i]:.1f}, {boundaries[i + 1]:.1f}]:\")\n",
    "    print(f\"  Count: {len(bucket_scores)}\")\n",
    "    print(f\"  Mean FICO: {bucket_scores.mean():.1f}\")\n",
    "    print(f\"  Std FICO: {bucket_scores.std():.1f}\")\n",
    "    \n",
    "    if df['default'] is not None:\n",
    "        bucket_defaults = df['default'][mask]\n",
    "        default_rate = bucket_defaults.mean()\n",
    "        print(f\"  Default rate: {default_rate:.3f}\")\n"
   ]
  }
 ],
 "metadata": {
  "kernelspec": {
   "display_name": "Python 3",
   "language": "python",
   "name": "python3"
  },
  "language_info": {
   "codemirror_mode": {
    "name": "ipython",
    "version": 3
   },
   "file_extension": ".py",
   "mimetype": "text/x-python",
   "name": "python",
   "nbconvert_exporter": "python",
   "pygments_lexer": "ipython3",
   "version": "3.10.0"
  }
 },
 "nbformat": 4,
 "nbformat_minor": 5
}
