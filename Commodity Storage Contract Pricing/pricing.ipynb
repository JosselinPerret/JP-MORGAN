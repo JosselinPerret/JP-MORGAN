{
 "cells": [
  {
   "cell_type": "code",
   "execution_count": 18,
   "metadata": {},
   "outputs": [],
   "source": [
    "import numpy as np\n",
    "import pandas as pd\n",
    "import sys\n",
    "import os\n",
    "from datetime import datetime, timedelta"
   ]
  },
  {
   "cell_type": "code",
   "execution_count": 24,
   "id": "101db0bf",
   "metadata": {},
   "outputs": [],
   "source": [
    "natural_gas_dir = '../Natural Gas Prediction'\n",
    "sys.path.append(natural_gas_dir)\n",
    "from nat_gas import predict"
   ]
  },
  {
   "cell_type": "markdown",
   "id": "48964f2e",
   "metadata": {},
   "source": [
    "The input parameters that should be taken into account for pricing are:\n",
    "\n",
    "- Injection dates. \n",
    "- Withdrawal dates.\n",
    "- The prices at which the commodity can be purchased/sold on those dates.\n",
    "- The rate at which the gas can be injected/withdrawn.\n",
    "- The maximum volume that can be stored.\n",
    "- Storage costs."
   ]
  },
  {
   "cell_type": "code",
   "execution_count": 25,
   "id": "241d495e",
   "metadata": {},
   "outputs": [],
   "source": [
    "def price_storage_contract(injection_dates, withdrawal_dates, prices, injection_rate, withdrawal_rate, max_volume, storage_costs):\n",
    "    \"\"\"\n",
    "    Prices a commodity storage contract using a simplified model.\n",
    "    \n",
    "    Parameters:\n",
    "    - injection_dates: List of dates when injection is allowed.\n",
    "    - withdrawal_dates: List of dates when withdrawal is allowed.\n",
    "    - prices: List of commodity prices corresponding to the dates.\n",
    "    - injection_rate: Maximum rate of injection (units per day).\n",
    "    - withdrawal_rate: Maximum rate of withdrawal (units per day).\n",
    "    - max_volume: Maximum storage volume (units).\n",
    "    - storage_costs: Cost of storing the commodity (cost per unit per day).\n",
    "    \n",
    "    Returns:\n",
    "    - total_value: The total value of the storage contract.\n",
    "    \"\"\"\n",
    "    \n",
    "    volume = 0    \n",
    "    total_value = 0\n",
    "    current_date = min(injection_dates[0], withdrawal_dates[0])\n",
    "    end_date = max(injection_dates[-1], withdrawal_dates[-1])\n",
    "    \n",
    "    date_to_price = {date: price for date, price in zip(injection_dates + withdrawal_dates, prices)}\n",
    "    \n",
    "    while current_date <= end_date:\n",
    "        if current_date in injection_dates and volume < max_volume:\n",
    "            injectable_volume = min(injection_rate, max_volume - volume)\n",
    "            volume += injectable_volume\n",
    "            total_value -= injectable_volume * date_to_price[current_date]\n",
    "        \n",
    "        if current_date in withdrawal_dates and volume > 0:\n",
    "            withdrawable_volume = min(withdrawal_rate, volume)\n",
    "            volume -= withdrawable_volume\n",
    "            total_value += withdrawable_volume * date_to_price[current_date]\n",
    "        \n",
    "        total_value -= volume * storage_costs\n",
    "        current_date += timedelta(days=1)\n",
    "    \n",
    "    return total_value, volume"
   ]
  },
  {
   "cell_type": "code",
   "execution_count": 46,
   "id": "172202ff",
   "metadata": {},
   "outputs": [],
   "source": [
    "# for some values\n",
    "injection_dates = [datetime(2023, 1, 1) + timedelta(days=i) for i in range(0, 30, 5)]\n",
    "withdrawal_dates = [datetime(2023, 1, 3) + timedelta(days=i) for i in range(0, 30, 5)]\n",
    "prices = [predict(date) for date in injection_dates + withdrawal_dates]\n",
    "injection_rate = 10  # units per day\n",
    "withdrawal_rate = 10  # units per day\n",
    "max_volume = 100  # units\n",
    "storage_costs = 0.1  # cost per unit per day"
   ]
  },
  {
   "cell_type": "code",
   "execution_count": null,
   "id": "c1968896",
   "metadata": {},
   "outputs": [
    {
     "name": "stdout",
     "output_type": "stream",
     "text": [
      "(-12.0, 0)\n"
     ]
    }
   ],
   "source": [
    "print(price_storage_contract(injection_dates, withdrawal_dates, prices, injection_rate, withdrawal_rate, max_volume, storage_costs))"
   ]
  }
 ],
 "metadata": {
  "kernelspec": {
   "display_name": "Python 3",
   "language": "python",
   "name": "python3"
  },
  "language_info": {
   "codemirror_mode": {
    "name": "ipython",
    "version": 3
   },
   "file_extension": ".py",
   "mimetype": "text/x-python",
   "name": "python",
   "nbconvert_exporter": "python",
   "pygments_lexer": "ipython3",
   "version": "3.10.0"
  }
 },
 "nbformat": 4,
 "nbformat_minor": 5
}
